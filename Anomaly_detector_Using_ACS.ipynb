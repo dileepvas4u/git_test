{
 "cells": [
  {
   "cell_type": "markdown",
   "id": "c388a7be",
   "metadata": {},
   "source": [
    "# Detect entire series anomalies using Azure Cognitive Services (Anomaly Detector API)"
   ]
  },
  {
   "cell_type": "code",
   "execution_count": 1,
   "id": "428621ea",
   "metadata": {},
   "outputs": [],
   "source": [
    "# Import Libraries\n",
    "\n",
    "import os\n",
    "from azure.ai.anomalydetector import AnomalyDetectorClient\n",
    "from azure.ai.anomalydetector.models import DetectRequest, TimeSeriesPoint, TimeGranularity, AnomalyDetectorError\n",
    "from azure.core.credentials import AzureKeyCredential\n",
    "import pandas as pd\n",
    "import numpy as np\n",
    "from msrest.authentication import CognitiveServicesCredentials"
   ]
  },
  {
   "cell_type": "code",
   "execution_count": 2,
   "id": "7d730ce7",
   "metadata": {},
   "outputs": [],
   "source": [
    "# Create variables for your key as an environment variable, \n",
    "# the path to a time series data file \n",
    "# and the Azure location of your subscription\n",
    "\n",
    "SUBSCRIPTION_KEY = \"f543655049434464bcddb3e63377e89c\"\n",
    "ANOMALY_DETECTOR_ENDPOINT = \"https://anomaly-20-9.cognitiveservices.azure.com/\"\n",
    "#ANOMALY_DETECTOR_ENDPOINT = \"https://anomaly-20-9.cognitiveservices.azure.com/anomalydetector/v1.0/timeseries/entire/detect\"\n",
    "TIME_SERIES_DATA_PATH = os.path.join(\"./\", \"timeSeries_split.csv\")"
   ]
  },
  {
   "cell_type": "code",
   "execution_count": 3,
   "id": "ca814212",
   "metadata": {},
   "outputs": [],
   "source": [
    "# Create an Anomaly Detector client\n",
    "\n",
    "client = AnomalyDetectorClient(AzureKeyCredential(SUBSCRIPTION_KEY), ANOMALY_DETECTOR_ENDPOINT)\n",
    "#client = AnomalyDetectorClient(CognitiveServicesCredentials(SUBSCRIPTION_KEY), ANOMALY_DETECTOR_ENDPOINT)\n"
   ]
  },
  {
   "cell_type": "code",
   "execution_count": 4,
   "id": "8b63e445",
   "metadata": {},
   "outputs": [],
   "source": [
    "# Load in the time series data file\n",
    "\n",
    "series = []\n",
    "data_file = pd.read_csv(TIME_SERIES_DATA_PATH, header=0, encoding='utf-8', date_parser=[0])\n"
   ]
  },
  {
   "cell_type": "code",
   "execution_count": 5,
   "id": "53833020",
   "metadata": {},
   "outputs": [],
   "source": [
    "\n",
    "#data_file.columns = data_file.iloc[0]\n",
    "#data_file = data_file[1:]"
   ]
  },
  {
   "cell_type": "code",
   "execution_count": 6,
   "id": "9834b5c3",
   "metadata": {},
   "outputs": [
    {
     "name": "stdout",
     "output_type": "stream",
     "text": [
      "<class 'pandas.core.frame.DataFrame'>\n",
      "RangeIndex: 89 entries, 0 to 88\n",
      "Data columns (total 2 columns):\n",
      " #   Column    Non-Null Count  Dtype \n",
      "---  ------    --------------  ----- \n",
      " 0   Datetime  89 non-null     object\n",
      " 1   Value     89 non-null     int64 \n",
      "dtypes: int64(1), object(1)\n",
      "memory usage: 1.5+ KB\n"
     ]
    }
   ],
   "source": [
    "data_file.info()"
   ]
  },
  {
   "cell_type": "code",
   "execution_count": 7,
   "id": "0ed68d64",
   "metadata": {},
   "outputs": [
    {
     "data": {
      "text/html": [
       "<div>\n",
       "<style scoped>\n",
       "    .dataframe tbody tr th:only-of-type {\n",
       "        vertical-align: middle;\n",
       "    }\n",
       "\n",
       "    .dataframe tbody tr th {\n",
       "        vertical-align: top;\n",
       "    }\n",
       "\n",
       "    .dataframe thead th {\n",
       "        text-align: right;\n",
       "    }\n",
       "</style>\n",
       "<table border=\"1\" class=\"dataframe\">\n",
       "  <thead>\n",
       "    <tr style=\"text-align: right;\">\n",
       "      <th></th>\n",
       "      <th>Datetime</th>\n",
       "      <th>Value</th>\n",
       "    </tr>\n",
       "  </thead>\n",
       "  <tbody>\n",
       "    <tr>\n",
       "      <th>0</th>\n",
       "      <td>2004-10-01T01:00:00Z</td>\n",
       "      <td>12379</td>\n",
       "    </tr>\n",
       "    <tr>\n",
       "      <th>1</th>\n",
       "      <td>2004-10-01T02:00:00Z</td>\n",
       "      <td>11935</td>\n",
       "    </tr>\n",
       "    <tr>\n",
       "      <th>2</th>\n",
       "      <td>2004-10-01T03:00:00Z</td>\n",
       "      <td>11692</td>\n",
       "    </tr>\n",
       "    <tr>\n",
       "      <th>3</th>\n",
       "      <td>2004-10-01T04:00:00Z</td>\n",
       "      <td>11597</td>\n",
       "    </tr>\n",
       "    <tr>\n",
       "      <th>4</th>\n",
       "      <td>2004-10-01T05:00:00Z</td>\n",
       "      <td>11681</td>\n",
       "    </tr>\n",
       "    <tr>\n",
       "      <th>...</th>\n",
       "      <td>...</td>\n",
       "      <td>...</td>\n",
       "    </tr>\n",
       "    <tr>\n",
       "      <th>84</th>\n",
       "      <td>2004-10-04T13:00:00Z</td>\n",
       "      <td>15662</td>\n",
       "    </tr>\n",
       "    <tr>\n",
       "      <th>85</th>\n",
       "      <td>2004-10-04T14:00:00Z</td>\n",
       "      <td>15803</td>\n",
       "    </tr>\n",
       "    <tr>\n",
       "      <th>86</th>\n",
       "      <td>2004-10-04T15:00:00Z</td>\n",
       "      <td>15747</td>\n",
       "    </tr>\n",
       "    <tr>\n",
       "      <th>87</th>\n",
       "      <td>2004-10-04T16:00:00Z</td>\n",
       "      <td>15689</td>\n",
       "    </tr>\n",
       "    <tr>\n",
       "      <th>88</th>\n",
       "      <td>2004-10-04T17:00:00Z</td>\n",
       "      <td>15617</td>\n",
       "    </tr>\n",
       "  </tbody>\n",
       "</table>\n",
       "<p>89 rows × 2 columns</p>\n",
       "</div>"
      ],
      "text/plain": [
       "                Datetime  Value\n",
       "0   2004-10-01T01:00:00Z  12379\n",
       "1   2004-10-01T02:00:00Z  11935\n",
       "2   2004-10-01T03:00:00Z  11692\n",
       "3   2004-10-01T04:00:00Z  11597\n",
       "4   2004-10-01T05:00:00Z  11681\n",
       "..                   ...    ...\n",
       "84  2004-10-04T13:00:00Z  15662\n",
       "85  2004-10-04T14:00:00Z  15803\n",
       "86  2004-10-04T15:00:00Z  15747\n",
       "87  2004-10-04T16:00:00Z  15689\n",
       "88  2004-10-04T17:00:00Z  15617\n",
       "\n",
       "[89 rows x 2 columns]"
      ]
     },
     "execution_count": 7,
     "metadata": {},
     "output_type": "execute_result"
    }
   ],
   "source": [
    "data_file"
   ]
  },
  {
   "cell_type": "code",
   "execution_count": 8,
   "id": "1c7e1ceb",
   "metadata": {},
   "outputs": [],
   "source": [
    "for index, row in data_file.iterrows():\n",
    "    series.append(TimeSeriesPoint(timestamp=row[0], value=row[1]))"
   ]
  },
  {
   "cell_type": "code",
   "execution_count": 9,
   "id": "bdbd7f89",
   "metadata": {},
   "outputs": [],
   "source": [
    "# Create a DetectRequest object with your time series\n",
    "# and the TimeGranularity (or periodicity) of its data points\n",
    "\n",
    "request = DetectRequest(series=series, granularity=TimeGranularity.hourly)\n",
    "#request = DetectRequest(series=np.take(series, [0, 8000], axis = 1)), granularity=TimeGranularity.daily)"
   ]
  },
  {
   "cell_type": "code",
   "execution_count": 10,
   "id": "fdcfc7fd",
   "metadata": {},
   "outputs": [
    {
     "data": {
      "text/plain": [
       "89"
      ]
     },
     "execution_count": 10,
     "metadata": {},
     "output_type": "execute_result"
    }
   ],
   "source": [
    "len(series)"
   ]
  },
  {
   "cell_type": "code",
   "execution_count": 11,
   "id": "8477d5fc",
   "metadata": {},
   "outputs": [
    {
     "name": "stdout",
     "output_type": "stream",
     "text": [
      "{'additional_properties': {}, 'timestamp': '2004-10-01T01:00:00Z', 'value': 12379}\n",
      "{'additional_properties': {}, 'timestamp': '2004-10-01T02:00:00Z', 'value': 11935}\n",
      "{'additional_properties': {}, 'timestamp': '2004-10-01T03:00:00Z', 'value': 11692}\n",
      "{'additional_properties': {}, 'timestamp': '2004-10-01T04:00:00Z', 'value': 11597}\n",
      "{'additional_properties': {}, 'timestamp': '2004-10-01T05:00:00Z', 'value': 11681}\n",
      "{'additional_properties': {}, 'timestamp': '2004-10-01T06:00:00Z', 'value': 12280}\n",
      "{'additional_properties': {}, 'timestamp': '2004-10-01T07:00:00Z', 'value': 13692}\n",
      "{'additional_properties': {}, 'timestamp': '2004-10-01T08:00:00Z', 'value': 14618}\n",
      "{'additional_properties': {}, 'timestamp': '2004-10-01T09:00:00Z', 'value': 14903}\n",
      "{'additional_properties': {}, 'timestamp': '2004-10-01T10:00:00Z', 'value': 15118}\n",
      "{'additional_properties': {}, 'timestamp': '2004-10-01T11:00:00Z', 'value': 15242}\n",
      "{'additional_properties': {}, 'timestamp': '2004-10-01T12:00:00Z', 'value': 15375}\n",
      "{'additional_properties': {}, 'timestamp': '2004-10-01T13:00:00Z', 'value': 15404}\n",
      "{'additional_properties': {}, 'timestamp': '2004-10-01T14:00:00Z', 'value': 15655}\n",
      "{'additional_properties': {}, 'timestamp': '2004-10-01T15:00:00Z', 'value': 15739}\n",
      "{'additional_properties': {}, 'timestamp': '2004-10-01T16:00:00Z', 'value': 15739}\n",
      "{'additional_properties': {}, 'timestamp': '2004-10-01T17:00:00Z', 'value': 15644}\n",
      "{'additional_properties': {}, 'timestamp': '2004-10-01T18:00:00Z', 'value': 15353}\n",
      "{'additional_properties': {}, 'timestamp': '2004-10-01T19:00:00Z', 'value': 15034}\n",
      "{'additional_properties': {}, 'timestamp': '2004-10-01T20:00:00Z', 'value': 15211}\n",
      "{'additional_properties': {}, 'timestamp': '2004-10-01T21:00:00Z', 'value': 15349}\n",
      "{'additional_properties': {}, 'timestamp': '2004-10-01T22:00:00Z', 'value': 14837}\n",
      "{'additional_properties': {}, 'timestamp': '2004-10-01T23:00:00Z', 'value': 14067}\n",
      "{'additional_properties': {}, 'timestamp': '2004-10-02T00:00:00Z', 'value': 13147}\n",
      "{'additional_properties': {}, 'timestamp': '2004-10-02T01:00:00Z', 'value': 12260}\n",
      "{'additional_properties': {}, 'timestamp': '2004-10-02T02:00:00Z', 'value': 11672}\n",
      "{'additional_properties': {}, 'timestamp': '2004-10-02T03:00:00Z', 'value': 11352}\n",
      "{'additional_properties': {}, 'timestamp': '2004-10-02T04:00:00Z', 'value': 11177}\n",
      "{'additional_properties': {}, 'timestamp': '2004-10-02T05:00:00Z', 'value': 11142}\n",
      "{'additional_properties': {}, 'timestamp': '2004-10-02T06:00:00Z', 'value': 11331}\n",
      "{'additional_properties': {}, 'timestamp': '2004-10-02T07:00:00Z', 'value': 11866}\n",
      "{'additional_properties': {}, 'timestamp': '2004-10-02T08:00:00Z', 'value': 12387}\n",
      "{'additional_properties': {}, 'timestamp': '2004-10-02T09:00:00Z', 'value': 13144}\n",
      "{'additional_properties': {}, 'timestamp': '2004-10-02T10:00:00Z', 'value': 13712}\n",
      "{'additional_properties': {}, 'timestamp': '2004-10-02T11:00:00Z', 'value': 14082}\n",
      "{'additional_properties': {}, 'timestamp': '2004-10-02T12:00:00Z', 'value': 14080}\n",
      "{'additional_properties': {}, 'timestamp': '2004-10-02T13:00:00Z', 'value': 14056}\n",
      "{'additional_properties': {}, 'timestamp': '2004-10-02T14:00:00Z', 'value': 13934}\n",
      "{'additional_properties': {}, 'timestamp': '2004-10-02T15:00:00Z', 'value': 13758}\n",
      "{'additional_properties': {}, 'timestamp': '2004-10-02T16:00:00Z', 'value': 13579}\n",
      "{'additional_properties': {}, 'timestamp': '2004-10-02T17:00:00Z', 'value': 13620}\n",
      "{'additional_properties': {}, 'timestamp': '2004-10-02T18:00:00Z', 'value': 13483}\n",
      "{'additional_properties': {}, 'timestamp': '2004-10-02T19:00:00Z', 'value': 13379}\n",
      "{'additional_properties': {}, 'timestamp': '2004-10-02T20:00:00Z', 'value': 13825}\n",
      "{'additional_properties': {}, 'timestamp': '2004-10-02T21:00:00Z', 'value': 14056}\n",
      "{'additional_properties': {}, 'timestamp': '2004-10-02T22:00:00Z', 'value': 14015}\n",
      "{'additional_properties': {}, 'timestamp': '2004-10-02T23:00:00Z', 'value': 12940}\n",
      "{'additional_properties': {}, 'timestamp': '2004-10-03T00:00:00Z', 'value': 12172}\n",
      "{'additional_properties': {}, 'timestamp': '2004-10-03T01:00:00Z', 'value': 11443}\n",
      "{'additional_properties': {}, 'timestamp': '2004-10-03T02:00:00Z', 'value': 10807}\n",
      "{'additional_properties': {}, 'timestamp': '2004-10-03T03:00:00Z', 'value': 10600}\n",
      "{'additional_properties': {}, 'timestamp': '2004-10-03T04:00:00Z', 'value': 10438}\n",
      "{'additional_properties': {}, 'timestamp': '2004-10-03T05:00:00Z', 'value': 10430}\n",
      "{'additional_properties': {}, 'timestamp': '2004-10-03T06:00:00Z', 'value': 10509}\n",
      "{'additional_properties': {}, 'timestamp': '2004-10-03T07:00:00Z', 'value': 10795}\n",
      "{'additional_properties': {}, 'timestamp': '2004-10-03T08:00:00Z', 'value': 11288}\n",
      "{'additional_properties': {}, 'timestamp': '2004-10-03T09:00:00Z', 'value': 11965}\n",
      "{'additional_properties': {}, 'timestamp': '2004-10-03T10:00:00Z', 'value': 12493}\n",
      "{'additional_properties': {}, 'timestamp': '2004-10-03T11:00:00Z', 'value': 12722}\n",
      "{'additional_properties': {}, 'timestamp': '2004-10-03T12:00:00Z', 'value': 12908}\n",
      "{'additional_properties': {}, 'timestamp': '2004-10-03T13:00:00Z', 'value': 12997}\n",
      "{'additional_properties': {}, 'timestamp': '2004-10-03T14:00:00Z', 'value': 12924}\n",
      "{'additional_properties': {}, 'timestamp': '2004-10-03T15:00:00Z', 'value': 12759}\n",
      "{'additional_properties': {}, 'timestamp': '2004-10-03T16:00:00Z', 'value': 12605}\n",
      "{'additional_properties': {}, 'timestamp': '2004-10-03T17:00:00Z', 'value': 12755}\n",
      "{'additional_properties': {}, 'timestamp': '2004-10-03T18:00:00Z', 'value': 12795}\n",
      "{'additional_properties': {}, 'timestamp': '2004-10-03T19:00:00Z', 'value': 12979}\n",
      "{'additional_properties': {}, 'timestamp': '2004-10-03T20:00:00Z', 'value': 13819}\n",
      "{'additional_properties': {}, 'timestamp': '2004-10-03T21:00:00Z', 'value': 14237}\n",
      "{'additional_properties': {}, 'timestamp': '2004-10-03T22:00:00Z', 'value': 13878}\n",
      "{'additional_properties': {}, 'timestamp': '2004-10-03T23:00:00Z', 'value': 13132}\n",
      "{'additional_properties': {}, 'timestamp': '2004-10-04T00:00:00Z', 'value': 12351}\n",
      "{'additional_properties': {}, 'timestamp': '2004-10-04T01:00:00Z', 'value': 11817}\n",
      "{'additional_properties': {}, 'timestamp': '2004-10-04T02:00:00Z', 'value': 11408}\n",
      "{'additional_properties': {}, 'timestamp': '2004-10-04T03:00:00Z', 'value': 11261}\n",
      "{'additional_properties': {}, 'timestamp': '2004-10-04T04:00:00Z', 'value': 11247}\n",
      "{'additional_properties': {}, 'timestamp': '2004-10-04T05:00:00Z', 'value': 11414}\n",
      "{'additional_properties': {}, 'timestamp': '2004-10-04T06:00:00Z', 'value': 12283}\n",
      "{'additional_properties': {}, 'timestamp': '2004-10-04T07:00:00Z', 'value': 13862}\n",
      "{'additional_properties': {}, 'timestamp': '2004-10-04T08:00:00Z', 'value': 14864}\n",
      "{'additional_properties': {}, 'timestamp': '2004-10-04T09:00:00Z', 'value': 15046}\n",
      "{'additional_properties': {}, 'timestamp': '2004-10-04T10:00:00Z', 'value': 15282}\n",
      "{'additional_properties': {}, 'timestamp': '2004-10-04T11:00:00Z', 'value': 15511}\n",
      "{'additional_properties': {}, 'timestamp': '2004-10-04T12:00:00Z', 'value': 15621}\n",
      "{'additional_properties': {}, 'timestamp': '2004-10-04T13:00:00Z', 'value': 15662}\n",
      "{'additional_properties': {}, 'timestamp': '2004-10-04T14:00:00Z', 'value': 15803}\n",
      "{'additional_properties': {}, 'timestamp': '2004-10-04T15:00:00Z', 'value': 15747}\n",
      "{'additional_properties': {}, 'timestamp': '2004-10-04T16:00:00Z', 'value': 15689}\n",
      "{'additional_properties': {}, 'timestamp': '2004-10-04T17:00:00Z', 'value': 15617}\n"
     ]
    }
   ],
   "source": [
    "for i in range(0, len(series)):\n",
    "\n",
    "     print(series[i])"
   ]
  },
  {
   "cell_type": "code",
   "execution_count": 12,
   "id": "3de6b038",
   "metadata": {},
   "outputs": [
    {
     "name": "stdout",
     "output_type": "stream",
     "text": [
      "Detecting anomalies in the entire time series.\n",
      "An anomaly was detected at index:\n",
      "12\n",
      "13\n",
      "14\n",
      "15\n",
      "16\n",
      "17\n",
      "18\n",
      "30\n",
      "31\n",
      "32\n",
      "33\n",
      "54\n",
      "55\n",
      "56\n",
      "57\n",
      "58\n",
      "59\n",
      "60\n",
      "61\n",
      "62\n",
      "63\n",
      "64\n"
     ]
    }
   ],
   "source": [
    "# Detect anomalies throughout the entire time series, as a batch\n",
    "\n",
    "print('Detecting anomalies in the entire time series.')\n",
    "\n",
    "try:\n",
    "    response = client.detect_entire_series(request)\n",
    "except AnomalyDetectorError as e:\n",
    "    print('Error code: {}'.format(e.error.code), 'Error message: {}'.format(e.error.message))\n",
    "except Exception as e:\n",
    "    print(e)\n",
    "\n",
    "if any(response.is_anomaly):\n",
    "    print('An anomaly was detected at index:')\n",
    "    for i, value in enumerate(response.is_anomaly):\n",
    "        if value:\n",
    "            print(i)\n",
    "else:\n",
    "    print('No anomalies were detected in the time series.')"
   ]
  },
  {
   "cell_type": "code",
   "execution_count": null,
   "id": "e67e06cd",
   "metadata": {},
   "outputs": [],
   "source": []
  },
  {
   "cell_type": "code",
   "execution_count": 13,
   "id": "1a9eed2a",
   "metadata": {},
   "outputs": [
    {
     "name": "stdout",
     "output_type": "stream",
     "text": [
      "Detecting the anomaly status of the latest data point.\n",
      "The latest point is not detected as anomaly.\n"
     ]
    }
   ],
   "source": [
    "# Detect the anomaly status of the latest data point\n",
    "\n",
    "print('Detecting the anomaly status of the latest data point.')\n",
    "\n",
    "try:\n",
    "    response = client.detect_last_point(request)\n",
    "except AnomalyDetectorError as e:\n",
    "    print('Error code: {}'.format(e.error.code), 'Error message: {}'.format(e.error.message))\n",
    "except Exception as e:\n",
    "    print(e)\n",
    "\n",
    "if response.is_anomaly:\n",
    "    print('The latest point is detected as anomaly.')\n",
    "else:\n",
    "    print('The latest point is not detected as anomaly.')"
   ]
  },
  {
   "cell_type": "code",
   "execution_count": 14,
   "id": "c4ac2afe",
   "metadata": {},
   "outputs": [
    {
     "name": "stdout",
     "output_type": "stream",
     "text": [
      "Detecting change points in the entire time series.\n",
      "No change point were detected in the time series.\n"
     ]
    }
   ],
   "source": [
    "# Detect change points in the data set\n",
    "\n",
    "print('Detecting change points in the entire time series.')\n",
    "\n",
    "try:\n",
    "    response = client.detect_change_point(request)\n",
    "except AnomalyDetectorError as e:\n",
    "    print('Error code: {}'.format(e.error.code), 'Error message: {}'.format(e.error.message))\n",
    "except Exception as e:\n",
    "    print(e)\n",
    "\n",
    "if any(response.is_change_point):\n",
    "    print('An change point was detected at index:')\n",
    "    for i, value in enumerate(response.is_change_point):\n",
    "        if value:\n",
    "            print(i)\n",
    "else:\n",
    "    print('No change point were detected in the time series.')"
   ]
  },
  {
   "cell_type": "code",
   "execution_count": null,
   "id": "a1900876",
   "metadata": {},
   "outputs": [],
   "source": []
  },
  {
   "cell_type": "code",
   "execution_count": null,
   "id": "e8d3402d",
   "metadata": {},
   "outputs": [],
   "source": []
  },
  {
   "cell_type": "code",
   "execution_count": null,
   "id": "0587f8ce",
   "metadata": {},
   "outputs": [],
   "source": []
  },
  {
   "cell_type": "code",
   "execution_count": null,
   "id": "88f36187",
   "metadata": {},
   "outputs": [],
   "source": []
  }
 ],
 "metadata": {
  "kernelspec": {
   "display_name": "Python 3 (ipykernel)",
   "language": "python",
   "name": "python3"
  },
  "language_info": {
   "codemirror_mode": {
    "name": "ipython",
    "version": 3
   },
   "file_extension": ".py",
   "mimetype": "text/x-python",
   "name": "python",
   "nbconvert_exporter": "python",
   "pygments_lexer": "ipython3",
   "version": "3.9.7"
  }
 },
 "nbformat": 4,
 "nbformat_minor": 5
}
